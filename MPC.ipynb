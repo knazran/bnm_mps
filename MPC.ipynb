{
 "cells": [
  {
   "cell_type": "code",
   "execution_count": 62,
   "metadata": {
    "collapsed": true
   },
   "outputs": [],
   "source": [
    "import pandas as pd\n",
    "import matplotlib.pyplot as plt\n",
    "import plotly.graph_objs as go\n",
    "import numpy as np\n",
    "import nltk\n",
    "from PIL import Image\n",
    "from wordcloud import WordCloud, STOPWORDS, ImageColorGenerator\n",
    "from textblob import TextBlob\n",
    "\n",
    "from vaderSentiment.vaderSentiment import SentimentIntensityAnalyzer\n",
    "\n",
    "%matplotlib inline"
   ]
  },
  {
   "cell_type": "code",
   "execution_count": 63,
   "metadata": {
    "collapsed": true
   },
   "outputs": [],
   "source": [
    "text = 'At its meeting today, the Monetary Policy Committee (MPC) of Bank Negara Malaysia decided to maintain the Overnight Policy Rate (OPR) at 3.00 percent. The global economy continues to strengthen. Growth has become more entrenched and synchronised across regions. Global trade has picked up significantly. Amid the sustained growth performance, economic slack is diminishing in the advanced economies. In Asia, growth is driven by sustained domestic activity and strong external demand. Financial markets have also been relatively calm in the recent period. For 2018, the global economy is projected to experience sustained growth. While there are risks arising from geopolitical and policy developments in major economies, economic prospects are expected to remain favourable. For Malaysia, economic growth has become more entrenched. Both the domestic and external sectors continue to register strong performance. Growth momentum has been lifted by stronger spillovers from the external sector to the domestic economy as firms invest in productive capacity, raise wages and hire more workers. For 2018, domestic demand is expected to remain the key source of growth. Private consumption will remain the largest driver of growth, supported by continued improvements in income and overall labour market conditions. Investment will be sustained by infrastructure projects and higher capital investment in the manufacturing and services sectors. The external sector will provide additional impetus to the economy. Overall, the assessment is for growth to remain strong in 2018. Domestic inflation has been driven mostly by movements in global oil prices. Consequently, headline inflation increased to 4.3% in September, arising from higher global prices of refined oil caused by disruptions in the global supply. For 2017 as a whole, headline inflation is expected to be at the upper end of the forecast range. Moving into 2018, headline inflation is projected to moderate on expectations of a smaller effect from global cost factors. Nevertheless, the trend of headline inflation will be dependent on future global oil prices which remain highly uncertain. Underlying inflation, as measured by core inflation, will be sustained by robust domestic demand. The domestic financial markets have been resilient. The ringgit has strengthened to better reflect the economic fundamentals. Banking system liquidity remains sufficient with financial institutions continuing to operate with strong capital and liquidity buffers. The growth of financing to the private sector has been sustained and is supportive of economic activity. At the current level of the OPR, the stance of monetary policy remains accommodative. Given the strength of the global and domestic macroeconomic conditions, the Monetary Policy Committee may consider reviewing the current degree of monetary accommodation. This is to ensure the sustainability of the growth prospects of the Malaysian economy. The meeting also approved the schedule of MPC meetings for 2018. In accordance with the Central Bank of Malaysia Act 2009, the MPC will convene six times during the year. The meetings will be held over two days, with the Monetary Policy Statement released at 3 pm on the second day of the MPC meeting.'"
   ]
  },
  {
   "cell_type": "code",
   "execution_count": 64,
   "metadata": {},
   "outputs": [
    {
     "data": {
      "text/plain": [
       "493"
      ]
     },
     "execution_count": 64,
     "metadata": {},
     "output_type": "execute_result"
    }
   ],
   "source": [
    "text_arr = text.split()\n",
    "len(text_arr)"
   ]
  },
  {
   "cell_type": "code",
   "execution_count": 65,
   "metadata": {},
   "outputs": [
    {
     "name": "stdout",
     "output_type": "stream",
     "text": [
      "[nltk_data] Downloading package stopwords to\n",
      "[nltk_data]     /Users/knazran/nltk_data...\n",
      "[nltk_data]   Package stopwords is already up-to-date!\n"
     ]
    }
   ],
   "source": [
    "#Initialize stopwords\n",
    "nltk.download('stopwords')\n",
    "stopwords = nltk.corpus.stopwords.words('english')"
   ]
  },
  {
   "cell_type": "code",
   "execution_count": 66,
   "metadata": {
    "collapsed": true
   },
   "outputs": [],
   "source": [
    "# Function to remove stopwords\n",
    "\n",
    "def remove_stopwords(text):\n",
    "    text_arr = nltk.word_tokenize(text)\n",
    "    no_stopword_arr = [word.lower() for word in text_arr if word.lower() not in stopwords]\n",
    "    return ' '.join(map(str,no_stopword_arr))\n",
    "\n",
    "def generate_sentiment(text):\n",
    "    textblob = TextBlob(text)\n",
    "    return textblob.sentiment.polarity\n",
    "\n",
    "def generate_subjectivity(text):\n",
    "    textblob = TextBlob(text)\n",
    "    return textblob.sentiment.subjectivity\n",
    "\n",
    "def generate_vader_sent(text):\n",
    "    analyzer = SentimentIntensityAnalyzer()\n",
    "    vs =analyzer.polarity_scores(text)\n",
    "    return vs['compound']"
   ]
  },
  {
   "cell_type": "code",
   "execution_count": 67,
   "metadata": {
    "collapsed": true
   },
   "outputs": [],
   "source": [
    "text_arr = text.split('. ')\n",
    "df = pd.DataFrame(text_arr, columns=[\"text\"])\n"
   ]
  },
  {
   "cell_type": "code",
   "execution_count": 68,
   "metadata": {
    "collapsed": true
   },
   "outputs": [],
   "source": [
    "arr = nltk.word_tokenize(df.text.values[0])"
   ]
  },
  {
   "cell_type": "code",
   "execution_count": 69,
   "metadata": {
    "collapsed": true
   },
   "outputs": [],
   "source": [
    "df[\"no_stopword_text\"] = df.text.apply(remove_stopwords)"
   ]
  },
  {
   "cell_type": "code",
   "execution_count": 70,
   "metadata": {},
   "outputs": [
    {
     "data": {
      "text/plain": [
       "0     meeting today , monetary policy committee ( mp...\n",
       "1                   global economy continues strengthen\n",
       "2     growth become entrenched synchronised across r...\n",
       "3                     global trade picked significantly\n",
       "4     amid sustained growth performance , economic s...\n",
       "5     asia , growth driven sustained domestic activi...\n",
       "6     financial markets also relatively calm recent ...\n",
       "7     2018 , global economy projected experience sus...\n",
       "8     risks arising geopolitical policy developments...\n",
       "9          malaysia , economic growth become entrenched\n",
       "10    domestic external sectors continue register st...\n",
       "11    growth momentum lifted stronger spillovers ext...\n",
       "12    2018 , domestic demand expected remain key sou...\n",
       "13    private consumption remain largest driver grow...\n",
       "14    investment sustained infrastructure projects h...\n",
       "15    external sector provide additional impetus eco...\n",
       "16       overall , assessment growth remain strong 2018\n",
       "17    domestic inflation driven mostly movements glo...\n",
       "18    consequently , headline inflation increased 4....\n",
       "19    2017 whole , headline inflation expected upper...\n",
       "20    moving 2018 , headline inflation projected mod...\n",
       "21    nevertheless , trend headline inflation depend...\n",
       "22    underlying inflation , measured core inflation...\n",
       "23                 domestic financial markets resilient\n",
       "24    ringgit strengthened better reflect economic f...\n",
       "25    banking system liquidity remains sufficient fi...\n",
       "26    growth financing private sector sustained supp...\n",
       "27    current level opr , stance monetary policy rem...\n",
       "28    given strength global domestic macroeconomic c...\n",
       "29    ensure sustainability growth prospects malaysi...\n",
       "30     meeting also approved schedule mpc meetings 2018\n",
       "31    accordance central bank malaysia act 2009 , mp...\n",
       "32    meetings held two days , monetary policy state...\n",
       "Name: no_stopword_text, dtype: object"
      ]
     },
     "execution_count": 70,
     "metadata": {},
     "output_type": "execute_result"
    }
   ],
   "source": [
    "df.no_stopword_text"
   ]
  },
  {
   "cell_type": "code",
   "execution_count": 71,
   "metadata": {},
   "outputs": [
    {
     "data": {
      "text/plain": [
       ",                 21\n",
       "growth            11\n",
       "global             9\n",
       "domestic           8\n",
       "inflation          7\n",
       "policy             6\n",
       "sustained          6\n",
       "economic           5\n",
       "economy            5\n",
       "2018               5\n",
       "remain             5\n",
       "monetary           5\n",
       "headline           4\n",
       "strong             4\n",
       "external           4\n",
       "mpc                4\n",
       "meeting            3\n",
       "financial          3\n",
       "malaysia           3\n",
       "demand             3\n",
       "prices             3\n",
       "sector             3\n",
       "oil                3\n",
       "expected           3\n",
       "performance        2\n",
       "investment         2\n",
       "markets            2\n",
       "sectors            2\n",
       "higher             2\n",
       "remains            2\n",
       "                  ..\n",
       "given              1\n",
       "days               1\n",
       "strengthen         1\n",
       "largest            1\n",
       "spillovers         1\n",
       "cost               1\n",
       "major              1\n",
       "strengthened       1\n",
       "refined            1\n",
       "highly             1\n",
       "supportive         1\n",
       "today              1\n",
       "sustainability     1\n",
       "period             1\n",
       "productive         1\n",
       "invest             1\n",
       "strength           1\n",
       "day                1\n",
       "robust             1\n",
       "relatively         1\n",
       "source             1\n",
       "income             1\n",
       "statement          1\n",
       "level              1\n",
       "schedule           1\n",
       "lifted             1\n",
       "synchronised       1\n",
       "effect             1\n",
       "end                1\n",
       "diminishing        1\n",
       "Length: 198, dtype: int64"
      ]
     },
     "execution_count": 71,
     "metadata": {},
     "output_type": "execute_result"
    }
   ],
   "source": [
    "all_words = df['no_stopword_text'].str.split(expand=True).unstack().value_counts()\n",
    "all_words"
   ]
  },
  {
   "cell_type": "code",
   "execution_count": 72,
   "metadata": {},
   "outputs": [
    {
     "data": {
      "text/plain": [
       "0     [meeting, today, ,, monetary, policy, committe...\n",
       "1              [global, economy, continues, strengthen]\n",
       "2     [growth, become, entrenched, synchronised, acr...\n",
       "3                [global, trade, picked, significantly]\n",
       "4     [amid, sustained, growth, performance, ,, econ...\n",
       "5     [asia, ,, growth, driven, sustained, domestic,...\n",
       "6     [financial, markets, also, relatively, calm, r...\n",
       "7     [2018, ,, global, economy, projected, experien...\n",
       "8     [risks, arising, geopolitical, policy, develop...\n",
       "9     [malaysia, ,, economic, growth, become, entren...\n",
       "10    [domestic, external, sectors, continue, regist...\n",
       "11    [growth, momentum, lifted, stronger, spillover...\n",
       "12    [2018, ,, domestic, demand, expected, remain, ...\n",
       "13    [private, consumption, remain, largest, driver...\n",
       "14    [investment, sustained, infrastructure, projec...\n",
       "15    [external, sector, provide, additional, impetu...\n",
       "16    [overall, ,, assessment, growth, remain, stron...\n",
       "17    [domestic, inflation, driven, mostly, movement...\n",
       "18    [consequently, ,, headline, inflation, increas...\n",
       "19    [2017, whole, ,, headline, inflation, expected...\n",
       "20    [moving, 2018, ,, headline, inflation, project...\n",
       "21    [nevertheless, ,, trend, headline, inflation, ...\n",
       "22    [underlying, inflation, ,, measured, core, inf...\n",
       "23            [domestic, financial, markets, resilient]\n",
       "24    [ringgit, strengthened, better, reflect, econo...\n",
       "25    [banking, system, liquidity, remains, sufficie...\n",
       "26    [growth, financing, private, sector, sustained...\n",
       "27    [current, level, opr, ,, stance, monetary, pol...\n",
       "28    [given, strength, global, domestic, macroecono...\n",
       "29    [ensure, sustainability, growth, prospects, ma...\n",
       "30    [meeting, also, approved, schedule, mpc, meeti...\n",
       "31    [accordance, central, bank, malaysia, act, 200...\n",
       "32    [meetings, held, two, days, ,, monetary, polic...\n",
       "Name: no_stopword_text, dtype: object"
      ]
     },
     "execution_count": 72,
     "metadata": {},
     "output_type": "execute_result"
    }
   ],
   "source": [
    "word_clean_arr = df['no_stopword_text'].str.split()\n",
    "word_clean_arr"
   ]
  },
  {
   "cell_type": "code",
   "execution_count": 73,
   "metadata": {
    "collapsed": true
   },
   "outputs": [],
   "source": [
    "text_arr = nltk.word_tokenize(text)\n",
    "text_arr = [word.lower() for word in text_arr if word.lower() not in stopwords]\n"
   ]
  },
  {
   "cell_type": "code",
   "execution_count": 74,
   "metadata": {
    "collapsed": true
   },
   "outputs": [],
   "source": [
    "kijang = np.array(Image.open('kijang-8.jpg'))\n",
    "image_colors = ImageColorGenerator(kijang)"
   ]
  },
  {
   "cell_type": "code",
   "execution_count": 75,
   "metadata": {
    "scrolled": false
   },
   "outputs": [
    {
     "data": {
      "text/plain": [
       "<wordcloud.wordcloud.WordCloud at 0x106c8bef0>"
      ]
     },
     "execution_count": 75,
     "metadata": {},
     "output_type": "execute_result"
    },
    {
     "data": {
      "image/png": "[encoded data removed]",
      "text/plain": [
       "<matplotlib.figure.Figure at 0x106c8be48>"
      ]
     },
     "metadata": {},
     "output_type": "display_data"
    }
   ],
   "source": [
    "plt.figure(figsize=(20,10))\n",
    "wc = WordCloud(width=800, height=800, background_color=\"white\", max_words=10000, \n",
    "               mask=kijang,stopwords=STOPWORDS, max_font_size= 20)\n",
    "wc.generate(\" \".join(text_arr))\n",
    "plt.title(\"MPC November 2017\", fontsize=16)\n",
    "plt.imshow(wc.recolor( random_state=17), alpha=0.98)\n",
    "plt.axis('off')\n",
    "wc.to_file(\"mpc-wc.png\")"
   ]
  },
  {
   "cell_type": "code",
   "execution_count": 76,
   "metadata": {
    "collapsed": true
   },
   "outputs": [],
   "source": [
    "df['sentiment'] = df.no_stopword_text.apply(generate_sentiment)\n",
    "df['subjectivity'] = df.no_stopword_text.apply(generate_subjectivity)\n",
    "df['vader_sent'] = df.no_stopword_text.apply(generate_vader_sent)"
   ]
  },
  {
   "cell_type": "code",
   "execution_count": 77,
   "metadata": {},
   "outputs": [
    {
     "data": {
      "text/html": [
       "<div>\n",
       "<style>\n",
       "    .dataframe thead tr:only-child th {\n",
       "        text-align: right;\n",
       "    }\n",
       "\n",
       "    .dataframe thead th {\n",
       "        text-align: left;\n",
       "    }\n",
       "\n",
       "    .dataframe tbody tr th {\n",
       "        vertical-align: top;\n",
       "    }\n",
       "</style>\n",
       "<table border=\"1\" class=\"dataframe\">\n",
       "  <thead>\n",
       "    <tr style=\"text-align: right;\">\n",
       "      <th></th>\n",
       "      <th>text</th>\n",
       "      <th>no_stopword_text</th>\n",
       "      <th>sentiment</th>\n",
       "      <th>subjectivity</th>\n",
       "      <th>vader_sent</th>\n",
       "    </tr>\n",
       "  </thead>\n",
       "  <tbody>\n",
       "    <tr>\n",
       "      <th>0</th>\n",
       "      <td>At its meeting today, the Monetary Policy Comm...</td>\n",
       "      <td>meeting today , monetary policy committee ( mp...</td>\n",
       "      <td>0.000000</td>\n",
       "      <td>0.000000</td>\n",
       "      <td>0.0000</td>\n",
       "    </tr>\n",
       "    <tr>\n",
       "      <th>1</th>\n",
       "      <td>The global economy continues to strengthen</td>\n",
       "      <td>global economy continues strengthen</td>\n",
       "      <td>0.000000</td>\n",
       "      <td>0.000000</td>\n",
       "      <td>0.3182</td>\n",
       "    </tr>\n",
       "    <tr>\n",
       "      <th>2</th>\n",
       "      <td>Growth has become more entrenched and synchron...</td>\n",
       "      <td>growth become entrenched synchronised across r...</td>\n",
       "      <td>0.000000</td>\n",
       "      <td>0.000000</td>\n",
       "      <td>0.3818</td>\n",
       "    </tr>\n",
       "    <tr>\n",
       "      <th>3</th>\n",
       "      <td>Global trade has picked up significantly</td>\n",
       "      <td>global trade picked significantly</td>\n",
       "      <td>0.187500</td>\n",
       "      <td>0.437500</td>\n",
       "      <td>0.0000</td>\n",
       "    </tr>\n",
       "    <tr>\n",
       "      <th>4</th>\n",
       "      <td>Amid the sustained growth performance, economi...</td>\n",
       "      <td>amid sustained growth performance , economic s...</td>\n",
       "      <td>0.300000</td>\n",
       "      <td>0.400000</td>\n",
       "      <td>0.5574</td>\n",
       "    </tr>\n",
       "    <tr>\n",
       "      <th>5</th>\n",
       "      <td>In Asia, growth is driven by sustained domesti...</td>\n",
       "      <td>asia , growth driven sustained domestic activi...</td>\n",
       "      <td>0.144444</td>\n",
       "      <td>0.311111</td>\n",
       "      <td>0.6597</td>\n",
       "    </tr>\n",
       "    <tr>\n",
       "      <th>6</th>\n",
       "      <td>Financial markets have also been relatively ca...</td>\n",
       "      <td>financial markets also relatively calm recent ...</td>\n",
       "      <td>0.100000</td>\n",
       "      <td>0.333333</td>\n",
       "      <td>0.3182</td>\n",
       "    </tr>\n",
       "    <tr>\n",
       "      <th>7</th>\n",
       "      <td>For 2018, the global economy is projected to e...</td>\n",
       "      <td>2018 , global economy projected experience sus...</td>\n",
       "      <td>0.000000</td>\n",
       "      <td>0.000000</td>\n",
       "      <td>0.3818</td>\n",
       "    </tr>\n",
       "    <tr>\n",
       "      <th>8</th>\n",
       "      <td>While there are risks arising from geopolitica...</td>\n",
       "      <td>risks arising geopolitical policy developments...</td>\n",
       "      <td>0.054167</td>\n",
       "      <td>0.366667</td>\n",
       "      <td>0.0258</td>\n",
       "    </tr>\n",
       "    <tr>\n",
       "      <th>9</th>\n",
       "      <td>For Malaysia, economic growth has become more ...</td>\n",
       "      <td>malaysia , economic growth become entrenched</td>\n",
       "      <td>0.200000</td>\n",
       "      <td>0.200000</td>\n",
       "      <td>0.3818</td>\n",
       "    </tr>\n",
       "    <tr>\n",
       "      <th>10</th>\n",
       "      <td>Both the domestic and external sectors continu...</td>\n",
       "      <td>domestic external sectors continue register st...</td>\n",
       "      <td>0.144444</td>\n",
       "      <td>0.311111</td>\n",
       "      <td>0.5106</td>\n",
       "    </tr>\n",
       "    <tr>\n",
       "      <th>11</th>\n",
       "      <td>Growth momentum has been lifted by stronger sp...</td>\n",
       "      <td>growth momentum lifted stronger spillovers ext...</td>\n",
       "      <td>0.000000</td>\n",
       "      <td>0.100000</td>\n",
       "      <td>0.6369</td>\n",
       "    </tr>\n",
       "    <tr>\n",
       "      <th>12</th>\n",
       "      <td>For 2018, domestic demand is expected to remai...</td>\n",
       "      <td>2018 , domestic demand expected remain key sou...</td>\n",
       "      <td>-0.033333</td>\n",
       "      <td>0.500000</td>\n",
       "      <td>0.2732</td>\n",
       "    </tr>\n",
       "    <tr>\n",
       "      <th>13</th>\n",
       "      <td>Private consumption will remain the largest dr...</td>\n",
       "      <td>private consumption remain largest driver grow...</td>\n",
       "      <td>0.000000</td>\n",
       "      <td>0.187500</td>\n",
       "      <td>0.7351</td>\n",
       "    </tr>\n",
       "    <tr>\n",
       "      <th>14</th>\n",
       "      <td>Investment will be sustained by infrastructure...</td>\n",
       "      <td>investment sustained infrastructure projects h...</td>\n",
       "      <td>0.250000</td>\n",
       "      <td>0.500000</td>\n",
       "      <td>0.0000</td>\n",
       "    </tr>\n",
       "    <tr>\n",
       "      <th>15</th>\n",
       "      <td>The external sector will provide additional im...</td>\n",
       "      <td>external sector provide additional impetus eco...</td>\n",
       "      <td>0.000000</td>\n",
       "      <td>0.100000</td>\n",
       "      <td>0.0000</td>\n",
       "    </tr>\n",
       "    <tr>\n",
       "      <th>16</th>\n",
       "      <td>Overall, the assessment is for growth to remai...</td>\n",
       "      <td>overall , assessment growth remain strong 2018</td>\n",
       "      <td>0.216667</td>\n",
       "      <td>0.366667</td>\n",
       "      <td>0.7096</td>\n",
       "    </tr>\n",
       "    <tr>\n",
       "      <th>17</th>\n",
       "      <td>Domestic inflation has been driven mostly by m...</td>\n",
       "      <td>domestic inflation driven mostly movements glo...</td>\n",
       "      <td>0.166667</td>\n",
       "      <td>0.200000</td>\n",
       "      <td>0.0000</td>\n",
       "    </tr>\n",
       "    <tr>\n",
       "      <th>18</th>\n",
       "      <td>Consequently, headline inflation increased to ...</td>\n",
       "      <td>consequently , headline inflation increased 4....</td>\n",
       "      <td>0.083333</td>\n",
       "      <td>0.166667</td>\n",
       "      <td>-0.0772</td>\n",
       "    </tr>\n",
       "    <tr>\n",
       "      <th>19</th>\n",
       "      <td>For 2017 as a whole, headline inflation is exp...</td>\n",
       "      <td>2017 whole , headline inflation expected upper...</td>\n",
       "      <td>0.033333</td>\n",
       "      <td>0.266667</td>\n",
       "      <td>0.0000</td>\n",
       "    </tr>\n",
       "    <tr>\n",
       "      <th>20</th>\n",
       "      <td>Moving into 2018, headline inflation is projec...</td>\n",
       "      <td>moving 2018 , headline inflation projected mod...</td>\n",
       "      <td>0.000000</td>\n",
       "      <td>0.400000</td>\n",
       "      <td>0.0000</td>\n",
       "    </tr>\n",
       "    <tr>\n",
       "      <th>21</th>\n",
       "      <td>Nevertheless, the trend of headline inflation ...</td>\n",
       "      <td>nevertheless , trend headline inflation depend...</td>\n",
       "      <td>0.053333</td>\n",
       "      <td>0.221667</td>\n",
       "      <td>-0.3597</td>\n",
       "    </tr>\n",
       "    <tr>\n",
       "      <th>22</th>\n",
       "      <td>Underlying inflation, as measured by core infl...</td>\n",
       "      <td>underlying inflation , measured core inflation...</td>\n",
       "      <td>0.000000</td>\n",
       "      <td>0.100000</td>\n",
       "      <td>0.2263</td>\n",
       "    </tr>\n",
       "    <tr>\n",
       "      <th>23</th>\n",
       "      <td>The domestic financial markets have been resil...</td>\n",
       "      <td>domestic financial markets resilient</td>\n",
       "      <td>0.000000</td>\n",
       "      <td>0.050000</td>\n",
       "      <td>0.0000</td>\n",
       "    </tr>\n",
       "    <tr>\n",
       "      <th>24</th>\n",
       "      <td>The ringgit has strengthened to better reflect...</td>\n",
       "      <td>ringgit strengthened better reflect economic f...</td>\n",
       "      <td>0.350000</td>\n",
       "      <td>0.350000</td>\n",
       "      <td>0.6908</td>\n",
       "    </tr>\n",
       "    <tr>\n",
       "      <th>25</th>\n",
       "      <td>Banking system liquidity remains sufficient wi...</td>\n",
       "      <td>banking system liquidity remains sufficient fi...</td>\n",
       "      <td>0.216667</td>\n",
       "      <td>0.366667</td>\n",
       "      <td>0.5106</td>\n",
       "    </tr>\n",
       "    <tr>\n",
       "      <th>26</th>\n",
       "      <td>The growth of financing to the private sector ...</td>\n",
       "      <td>growth financing private sector sustained supp...</td>\n",
       "      <td>0.233333</td>\n",
       "      <td>0.525000</td>\n",
       "      <td>0.5859</td>\n",
       "    </tr>\n",
       "    <tr>\n",
       "      <th>27</th>\n",
       "      <td>At the current level of the OPR, the stance of...</td>\n",
       "      <td>current level opr , stance monetary policy rem...</td>\n",
       "      <td>0.000000</td>\n",
       "      <td>0.400000</td>\n",
       "      <td>0.0000</td>\n",
       "    </tr>\n",
       "    <tr>\n",
       "      <th>28</th>\n",
       "      <td>Given the strength of the global and domestic ...</td>\n",
       "      <td>given strength global domestic macroeconomic c...</td>\n",
       "      <td>0.000000</td>\n",
       "      <td>0.166667</td>\n",
       "      <td>0.4939</td>\n",
       "    </tr>\n",
       "    <tr>\n",
       "      <th>29</th>\n",
       "      <td>This is to ensure the sustainability of the gr...</td>\n",
       "      <td>ensure sustainability growth prospects malaysi...</td>\n",
       "      <td>0.000000</td>\n",
       "      <td>0.000000</td>\n",
       "      <td>0.7506</td>\n",
       "    </tr>\n",
       "    <tr>\n",
       "      <th>30</th>\n",
       "      <td>The meeting also approved the schedule of MPC ...</td>\n",
       "      <td>meeting also approved schedule mpc meetings 2018</td>\n",
       "      <td>0.000000</td>\n",
       "      <td>0.000000</td>\n",
       "      <td>0.4215</td>\n",
       "    </tr>\n",
       "    <tr>\n",
       "      <th>31</th>\n",
       "      <td>In accordance with the Central Bank of Malaysi...</td>\n",
       "      <td>accordance central bank malaysia act 2009 , mp...</td>\n",
       "      <td>0.000000</td>\n",
       "      <td>0.250000</td>\n",
       "      <td>0.0000</td>\n",
       "    </tr>\n",
       "    <tr>\n",
       "      <th>32</th>\n",
       "      <td>The meetings will be held over two days, with ...</td>\n",
       "      <td>meetings held two days , monetary policy state...</td>\n",
       "      <td>0.000000</td>\n",
       "      <td>0.000000</td>\n",
       "      <td>0.0000</td>\n",
       "    </tr>\n",
       "  </tbody>\n",
       "</table>\n",
       "</div>"
      ],
      "text/plain": [
       "                                                 text  \\\n",
       "0   At its meeting today, the Monetary Policy Comm...   \n",
       "1          The global economy continues to strengthen   \n",
       "2   Growth has become more entrenched and synchron...   \n",
       "3            Global trade has picked up significantly   \n",
       "4   Amid the sustained growth performance, economi...   \n",
       "5   In Asia, growth is driven by sustained domesti...   \n",
       "6   Financial markets have also been relatively ca...   \n",
       "7   For 2018, the global economy is projected to e...   \n",
       "8   While there are risks arising from geopolitica...   \n",
       "9   For Malaysia, economic growth has become more ...   \n",
       "10  Both the domestic and external sectors continu...   \n",
       "11  Growth momentum has been lifted by stronger sp...   \n",
       "12  For 2018, domestic demand is expected to remai...   \n",
       "13  Private consumption will remain the largest dr...   \n",
       "14  Investment will be sustained by infrastructure...   \n",
       "15  The external sector will provide additional im...   \n",
       "16  Overall, the assessment is for growth to remai...   \n",
       "17  Domestic inflation has been driven mostly by m...   \n",
       "18  Consequently, headline inflation increased to ...   \n",
       "19  For 2017 as a whole, headline inflation is exp...   \n",
       "20  Moving into 2018, headline inflation is projec...   \n",
       "21  Nevertheless, the trend of headline inflation ...   \n",
       "22  Underlying inflation, as measured by core infl...   \n",
       "23  The domestic financial markets have been resil...   \n",
       "24  The ringgit has strengthened to better reflect...   \n",
       "25  Banking system liquidity remains sufficient wi...   \n",
       "26  The growth of financing to the private sector ...   \n",
       "27  At the current level of the OPR, the stance of...   \n",
       "28  Given the strength of the global and domestic ...   \n",
       "29  This is to ensure the sustainability of the gr...   \n",
       "30  The meeting also approved the schedule of MPC ...   \n",
       "31  In accordance with the Central Bank of Malaysi...   \n",
       "32  The meetings will be held over two days, with ...   \n",
       "\n",
       "                                     no_stopword_text  sentiment  \\\n",
       "0   meeting today , monetary policy committee ( mp...   0.000000   \n",
       "1                 global economy continues strengthen   0.000000   \n",
       "2   growth become entrenched synchronised across r...   0.000000   \n",
       "3                   global trade picked significantly   0.187500   \n",
       "4   amid sustained growth performance , economic s...   0.300000   \n",
       "5   asia , growth driven sustained domestic activi...   0.144444   \n",
       "6   financial markets also relatively calm recent ...   0.100000   \n",
       "7   2018 , global economy projected experience sus...   0.000000   \n",
       "8   risks arising geopolitical policy developments...   0.054167   \n",
       "9        malaysia , economic growth become entrenched   0.200000   \n",
       "10  domestic external sectors continue register st...   0.144444   \n",
       "11  growth momentum lifted stronger spillovers ext...   0.000000   \n",
       "12  2018 , domestic demand expected remain key sou...  -0.033333   \n",
       "13  private consumption remain largest driver grow...   0.000000   \n",
       "14  investment sustained infrastructure projects h...   0.250000   \n",
       "15  external sector provide additional impetus eco...   0.000000   \n",
       "16     overall , assessment growth remain strong 2018   0.216667   \n",
       "17  domestic inflation driven mostly movements glo...   0.166667   \n",
       "18  consequently , headline inflation increased 4....   0.083333   \n",
       "19  2017 whole , headline inflation expected upper...   0.033333   \n",
       "20  moving 2018 , headline inflation projected mod...   0.000000   \n",
       "21  nevertheless , trend headline inflation depend...   0.053333   \n",
       "22  underlying inflation , measured core inflation...   0.000000   \n",
       "23               domestic financial markets resilient   0.000000   \n",
       "24  ringgit strengthened better reflect economic f...   0.350000   \n",
       "25  banking system liquidity remains sufficient fi...   0.216667   \n",
       "26  growth financing private sector sustained supp...   0.233333   \n",
       "27  current level opr , stance monetary policy rem...   0.000000   \n",
       "28  given strength global domestic macroeconomic c...   0.000000   \n",
       "29  ensure sustainability growth prospects malaysi...   0.000000   \n",
       "30   meeting also approved schedule mpc meetings 2018   0.000000   \n",
       "31  accordance central bank malaysia act 2009 , mp...   0.000000   \n",
       "32  meetings held two days , monetary policy state...   0.000000   \n",
       "\n",
       "    subjectivity  vader_sent  \n",
       "0       0.000000      0.0000  \n",
       "1       0.000000      0.3182  \n",
       "2       0.000000      0.3818  \n",
       "3       0.437500      0.0000  \n",
       "4       0.400000      0.5574  \n",
       "5       0.311111      0.6597  \n",
       "6       0.333333      0.3182  \n",
       "7       0.000000      0.3818  \n",
       "8       0.366667      0.0258  \n",
       "9       0.200000      0.3818  \n",
       "10      0.311111      0.5106  \n",
       "11      0.100000      0.6369  \n",
       "12      0.500000      0.2732  \n",
       "13      0.187500      0.7351  \n",
       "14      0.500000      0.0000  \n",
       "15      0.100000      0.0000  \n",
       "16      0.366667      0.7096  \n",
       "17      0.200000      0.0000  \n",
       "18      0.166667     -0.0772  \n",
       "19      0.266667      0.0000  \n",
       "20      0.400000      0.0000  \n",
       "21      0.221667     -0.3597  \n",
       "22      0.100000      0.2263  \n",
       "23      0.050000      0.0000  \n",
       "24      0.350000      0.6908  \n",
       "25      0.366667      0.5106  \n",
       "26      0.525000      0.5859  \n",
       "27      0.400000      0.0000  \n",
       "28      0.166667      0.4939  \n",
       "29      0.000000      0.7506  \n",
       "30      0.000000      0.4215  \n",
       "31      0.250000      0.0000  \n",
       "32      0.000000      0.0000  "
      ]
     },
     "execution_count": 77,
     "metadata": {},
     "output_type": "execute_result"
    }
   ],
   "source": [
    "df"
   ]
  },
  {
   "cell_type": "code",
   "execution_count": 78,
   "metadata": {},
   "outputs": [
    {
     "data": {
      "text/plain": [
       "0.2296127946127946"
      ]
     },
     "execution_count": 78,
     "metadata": {},
     "output_type": "execute_result"
    }
   ],
   "source": [
    "subject = df.subjectivity\n",
    "np.mean(subject)"
   ]
  },
  {
   "cell_type": "code",
   "execution_count": 79,
   "metadata": {},
   "outputs": [
    {
     "data": {
      "text/plain": [
       "array([ 0.        ,  0.        ,  0.        ,  0.4375    ,  0.4       ,\n",
       "        0.31111111,  0.33333333,  0.        ,  0.36666667,  0.2       ,\n",
       "        0.31111111,  0.1       ,  0.5       ,  0.1875    ,  0.5       ,\n",
       "        0.1       ,  0.36666667,  0.2       ,  0.16666667,  0.26666667,\n",
       "        0.4       ,  0.22166667,  0.1       ,  0.05      ,  0.35      ,\n",
       "        0.36666667,  0.525     ,  0.4       ,  0.16666667,  0.        ,\n",
       "        0.        ,  0.25      ,  0.        ])"
      ]
     },
     "execution_count": 79,
     "metadata": {},
     "output_type": "execute_result"
    }
   ],
   "source": [
    "subject.values"
   ]
  },
  {
   "cell_type": "code",
   "execution_count": 80,
   "metadata": {},
   "outputs": [
    {
     "data": {
      "text/plain": [
       "array([ 0,  1,  2,  3,  4,  5,  6,  7,  8,  9, 10, 11, 12, 13, 14, 15, 16,\n",
       "       17, 18, 19, 20, 21, 22, 23, 24, 25, 26, 27, 28, 29, 30, 31, 32])"
      ]
     },
     "execution_count": 80,
     "metadata": {},
     "output_type": "execute_result"
    }
   ],
   "source": [
    "df.index.values"
   ]
  },
  {
   "cell_type": "code",
   "execution_count": 81,
   "metadata": {},
   "outputs": [
    {
     "data": {
      "text/plain": [
       "0.081835016835016844"
      ]
     },
     "execution_count": 81,
     "metadata": {},
     "output_type": "execute_result"
    }
   ],
   "source": [
    "sent = df.sentiment\n",
    "np.mean(sent)"
   ]
  },
  {
   "cell_type": "code",
   "execution_count": 82,
   "metadata": {},
   "outputs": [
    {
     "data": {
      "image/png": "[encoded data removed]",
      "text/plain": [
       "<matplotlib.figure.Figure at 0x10b711fd0>"
      ]
     },
     "metadata": {},
     "output_type": "display_data"
    }
   ],
   "source": [
    "# plt.figure(figsize=(20,10))\n",
    "fig,ax = plt.subplots()\n",
    "plt.title(\"Subjectivity of MP Nov-2017 sentences\")\n",
    "x = df.index.values\n",
    "y_mean = [np.mean(subject)]*len(x)\n",
    "mean_line = ax.plot(x,y_mean, label='Mean', linestyle='--')\n",
    "\n",
    "ax.plot(x, subject.values)\n",
    "plt.show()"
   ]
  },
  {
   "cell_type": "code",
   "execution_count": 83,
   "metadata": {},
   "outputs": [
    {
     "data": {
      "image/png": "[encoded data removed]",
      "text/plain": [
       "<matplotlib.figure.Figure at 0x107bc6908>"
      ]
     },
     "metadata": {},
     "output_type": "display_data"
    }
   ],
   "source": [
    "fig,ax = plt.subplots()\n",
    "plt.title(\"Sentiments of MP Nov-2017 sentences\")\n",
    "x = df.index.values\n",
    "y_mean = [np.mean(sent)]*len(x)\n",
    "mean_line = ax.plot(x,y_mean, label='Mean', linestyle='--')\n",
    "\n",
    "ax.plot(x, sent.values)\n",
    "plt.show()"
   ]
  },
  {
   "cell_type": "code",
   "execution_count": 84,
   "metadata": {},
   "outputs": [
    {
     "data": {
      "image/png": "[encoded data removed]",
      "text/plain": [
       "<matplotlib.figure.Figure at 0x106c60630>"
      ]
     },
     "metadata": {},
     "output_type": "display_data"
    }
   ],
   "source": [
    "fig,ax = plt.subplots()\n",
    "plt.title(\"Sentiments of MP Nov-2017 sentences\")\n",
    "x = df.index.values\n",
    "y_mean = [np.mean(df.vader_sent)]*len(x)\n",
    "mean_line = ax.plot(x,y_mean, label='Mean', linestyle='--')\n",
    "\n",
    "ax.plot(x, df.vader_sent.values)\n",
    "plt.show()"
   ]
  },
  {
   "cell_type": "code",
   "execution_count": 85,
   "metadata": {},
   "outputs": [
    {
     "data": {
      "text/plain": [
       "'Nevertheless, the trend of headline inflation will be dependent on future global oil prices which remain highly uncertain'"
      ]
     },
     "execution_count": 85,
     "metadata": {},
     "output_type": "execute_result"
    }
   ],
   "source": [
    "df.text[21]"
   ]
  },
  {
   "cell_type": "code",
   "execution_count": null,
   "metadata": {
    "collapsed": true
   },
   "outputs": [],
   "source": []
  }
 ],
 "metadata": {
  "kernelspec": {
   "display_name": "Python 3",
   "language": "python",
   "name": "python3"
  },
  "language_info": {
   "codemirror_mode": {
    "name": "ipython",
    "version": 3
   },
   "file_extension": ".py",
   "mimetype": "text/x-python",
   "name": "python",
   "nbconvert_exporter": "python",
   "pygments_lexer": "ipython3",
   "version": "3.6.2"
  }
 },
 "nbformat": 4,
 "nbformat_minor": 2
}
